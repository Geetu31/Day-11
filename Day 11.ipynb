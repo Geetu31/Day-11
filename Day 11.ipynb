{
 "cells": [
  {
   "cell_type": "code",
   "execution_count": 1,
   "id": "08f545ff",
   "metadata": {},
   "outputs": [],
   "source": [
    "# req :create a class name greet :It needs to have below methods\n",
    "#1. createname...>accept input from user\n",
    "#2.displayname..>needs to display the name of the user\n",
    "#3. greetuser()...>method need to greet the user."
   ]
  },
  {
   "cell_type": "code",
   "execution_count": 18,
   "id": "a8d3dfce",
   "metadata": {},
   "outputs": [],
   "source": [
    "class Greet:  #class name\n",
    "    \"\"\"Creating a Greet Class\"\"\"  #this is doc string\n",
    "    def createname(self,username,age): #parameter #method name\n",
    "        self.username = username #attribute   test.username = 'xyzx'\n",
    "        self.age = age\n",
    "    def displayname(self):    #methodname\n",
    "        print(self.username)\n",
    "        print(self.age)\n",
    "    def greetuser(self):      #methodname\n",
    "        print(f\"Hello,GM...,{self.username}\")"
   ]
  },
  {
   "cell_type": "code",
   "execution_count": 19,
   "id": "96e9ef73",
   "metadata": {},
   "outputs": [],
   "source": [
    "test = Greet()"
   ]
  },
  {
   "cell_type": "code",
   "execution_count": 21,
   "id": "9e09b261",
   "metadata": {},
   "outputs": [],
   "source": [
    "test.createname('xyz','20')"
   ]
  },
  {
   "cell_type": "code",
   "execution_count": 22,
   "id": "911f5813",
   "metadata": {},
   "outputs": [
    {
     "name": "stdout",
     "output_type": "stream",
     "text": [
      "xyz\n",
      "20\n"
     ]
    }
   ],
   "source": [
    "test.displayname()"
   ]
  },
  {
   "cell_type": "code",
   "execution_count": 13,
   "id": "d2a1321a",
   "metadata": {},
   "outputs": [
    {
     "name": "stdout",
     "output_type": "stream",
     "text": [
      "Hello,GM...,xyz\n"
     ]
    }
   ],
   "source": [
    "test.greetuser()"
   ]
  },
  {
   "cell_type": "code",
   "execution_count": 14,
   "id": "b939a5cd",
   "metadata": {},
   "outputs": [],
   "source": [
    "x = Greet()"
   ]
  },
  {
   "cell_type": "code",
   "execution_count": 15,
   "id": "c949d096",
   "metadata": {},
   "outputs": [],
   "source": [
    "x.createname(\"Raj\")"
   ]
  },
  {
   "cell_type": "code",
   "execution_count": 17,
   "id": "634fd945",
   "metadata": {},
   "outputs": [
    {
     "name": "stdout",
     "output_type": "stream",
     "text": [
      "Raj\n"
     ]
    }
   ],
   "source": [
    "x.displayname()"
   ]
  },
  {
   "cell_type": "code",
   "execution_count": null,
   "id": "6a7f1917",
   "metadata": {},
   "outputs": [],
   "source": []
  }
 ],
 "metadata": {
  "kernelspec": {
   "display_name": "Python 3",
   "language": "python",
   "name": "python3"
  },
  "language_info": {
   "codemirror_mode": {
    "name": "ipython",
    "version": 3
   },
   "file_extension": ".py",
   "mimetype": "text/x-python",
   "name": "python",
   "nbconvert_exporter": "python",
   "pygments_lexer": "ipython3",
   "version": "3.6.13"
  }
 },
 "nbformat": 4,
 "nbformat_minor": 5
}
